{
 "cells": [
  {
   "cell_type": "code",
   "execution_count": 1,
   "metadata": {},
   "outputs": [],
   "source": [
    "import pandas as pd\n",
    "import numpy as np\n",
    "import re\n",
    "import datetime"
   ]
  },
  {
   "cell_type": "code",
   "execution_count": 2,
   "metadata": {},
   "outputs": [
    {
     "data": {
      "text/plain": [
       "(730764, 4)"
      ]
     },
     "execution_count": 2,
     "metadata": {},
     "output_type": "execute_result"
    }
   ],
   "source": [
    "df_c = pd.read_csv('chosun_new.csv')\n",
    "df_c.shape"
   ]
  },
  {
   "cell_type": "code",
   "execution_count": 3,
   "metadata": {},
   "outputs": [
    {
     "data": {
      "text/plain": [
       "(316609, 4)"
      ]
     },
     "execution_count": 3,
     "metadata": {},
     "output_type": "execute_result"
    }
   ],
   "source": [
    "df_d = pd.read_csv('donga_new.csv')\n",
    "df_d.shape"
   ]
  },
  {
   "cell_type": "code",
   "execution_count": 6,
   "metadata": {},
   "outputs": [
    {
     "data": {
      "text/plain": [
       "(1944874, 4)"
      ]
     },
     "execution_count": 6,
     "metadata": {},
     "output_type": "execute_result"
    }
   ],
   "source": [
    "df_j = pd.read_csv('joongang_new.csv')\n",
    "df_j.shape"
   ]
  },
  {
   "cell_type": "code",
   "execution_count": 7,
   "metadata": {},
   "outputs": [
    {
     "data": {
      "text/plain": [
       "(971280, 4)"
      ]
     },
     "execution_count": 7,
     "metadata": {},
     "output_type": "execute_result"
    }
   ],
   "source": [
    "df_k = pd.read_csv('khan_new.csv')\n",
    "df_k.shape"
   ]
  },
  {
   "cell_type": "code",
   "execution_count": 8,
   "metadata": {},
   "outputs": [
    {
     "data": {
      "text/plain": [
       "(3963527, 4)"
      ]
     },
     "execution_count": 8,
     "metadata": {},
     "output_type": "execute_result"
    }
   ],
   "source": [
    "final = pd.concat([df_c,df_d,df_j,df_k])\n",
    "final.shape"
   ]
  },
  {
   "cell_type": "code",
   "execution_count": 12,
   "metadata": {},
   "outputs": [
    {
     "data": {
      "text/html": [
       "<div>\n",
       "<style scoped>\n",
       "    .dataframe tbody tr th:only-of-type {\n",
       "        vertical-align: middle;\n",
       "    }\n",
       "\n",
       "    .dataframe tbody tr th {\n",
       "        vertical-align: top;\n",
       "    }\n",
       "\n",
       "    .dataframe thead th {\n",
       "        text-align: right;\n",
       "    }\n",
       "</style>\n",
       "<table border=\"1\" class=\"dataframe\">\n",
       "  <thead>\n",
       "    <tr style=\"text-align: right;\">\n",
       "      <th></th>\n",
       "      <th>Unnamed: 0</th>\n",
       "      <th>title</th>\n",
       "      <th>date</th>\n",
       "      <th>company</th>\n",
       "    </tr>\n",
       "  </thead>\n",
       "  <tbody>\n",
       "    <tr>\n",
       "      <th>0</th>\n",
       "      <td>0</td>\n",
       "      <td>경제전문가·일반인 긴급 여론조사;“구조조정만이 살길”</td>\n",
       "      <td>2001-01-01</td>\n",
       "      <td>chosun</td>\n",
       "    </tr>\n",
       "    <tr>\n",
       "      <th>1</th>\n",
       "      <td>1</td>\n",
       "      <td>◇희망의 2001년… 다시 한번 뛰어보자;</td>\n",
       "      <td>2001-01-01</td>\n",
       "      <td>chosun</td>\n",
       "    </tr>\n",
       "    <tr>\n",
       "      <th>2</th>\n",
       "      <td>2</td>\n",
       "      <td>클린턴이 임명한 테닛;부시, CIA국장 유임시킬듯;</td>\n",
       "      <td>2001-01-01</td>\n",
       "      <td>chosun</td>\n",
       "    </tr>\n",
       "    <tr>\n",
       "      <th>3</th>\n",
       "      <td>3</td>\n",
       "      <td>민주의원 이적 새해정국 파문;3명 자민련 입당… 교섭단체 가능 야 강력반발… 영수회...</td>\n",
       "      <td>2001-01-01</td>\n",
       "      <td>chosun</td>\n",
       "    </tr>\n",
       "    <tr>\n",
       "      <th>4</th>\n",
       "      <td>4</td>\n",
       "      <td>공적자금 투입 4개은 금융노조 전격 탈퇴;한빛·서울도 구조조정 동의</td>\n",
       "      <td>2001-01-01</td>\n",
       "      <td>chosun</td>\n",
       "    </tr>\n",
       "  </tbody>\n",
       "</table>\n",
       "</div>"
      ],
      "text/plain": [
       "   Unnamed: 0                                              title        date  \\\n",
       "0           0                      경제전문가·일반인 긴급 여론조사;“구조조정만이 살길”  2001-01-01   \n",
       "1           1                            ◇희망의 2001년… 다시 한번 뛰어보자;  2001-01-01   \n",
       "2           2                       클린턴이 임명한 테닛;부시, CIA국장 유임시킬듯;  2001-01-01   \n",
       "3           3  민주의원 이적 새해정국 파문;3명 자민련 입당… 교섭단체 가능 야 강력반발… 영수회...  2001-01-01   \n",
       "4           4              공적자금 투입 4개은 금융노조 전격 탈퇴;한빛·서울도 구조조정 동의  2001-01-01   \n",
       "\n",
       "  company  \n",
       "0  chosun  \n",
       "1  chosun  \n",
       "2  chosun  \n",
       "3  chosun  \n",
       "4  chosun  "
      ]
     },
     "execution_count": 12,
     "metadata": {},
     "output_type": "execute_result"
    }
   ],
   "source": [
    "final.head()\n"
   ]
  },
  {
   "cell_type": "code",
   "execution_count": 11,
   "metadata": {},
   "outputs": [
    {
     "data": {
      "text/html": [
       "<div>\n",
       "<style scoped>\n",
       "    .dataframe tbody tr th:only-of-type {\n",
       "        vertical-align: middle;\n",
       "    }\n",
       "\n",
       "    .dataframe tbody tr th {\n",
       "        vertical-align: top;\n",
       "    }\n",
       "\n",
       "    .dataframe thead th {\n",
       "        text-align: right;\n",
       "    }\n",
       "</style>\n",
       "<table border=\"1\" class=\"dataframe\">\n",
       "  <thead>\n",
       "    <tr style=\"text-align: right;\">\n",
       "      <th></th>\n",
       "      <th>Unnamed: 0</th>\n",
       "      <th>title</th>\n",
       "      <th>date</th>\n",
       "      <th>company</th>\n",
       "    </tr>\n",
       "  </thead>\n",
       "  <tbody>\n",
       "    <tr>\n",
       "      <th>971275</th>\n",
       "      <td>1797631</td>\n",
       "      <td>상위 20% 소득 2.0% 줄어들 때 하위 20% 6.5% 줄었다</td>\n",
       "      <td>2022-11-21</td>\n",
       "      <td>khan</td>\n",
       "    </tr>\n",
       "    <tr>\n",
       "      <th>971276</th>\n",
       "      <td>1797632</td>\n",
       "      <td>가계소득 하위 20%, 지출 절반이 ‘식비’···먹고살기 힘들어졌다</td>\n",
       "      <td>2022-11-21</td>\n",
       "      <td>khan</td>\n",
       "    </tr>\n",
       "    <tr>\n",
       "      <th>971277</th>\n",
       "      <td>1797633</td>\n",
       "      <td>APEC 간 한덕수 총리 “빈살만, 윤 대통령 만남 좋았다더라”</td>\n",
       "      <td>2022-11-21</td>\n",
       "      <td>khan</td>\n",
       "    </tr>\n",
       "    <tr>\n",
       "      <th>971278</th>\n",
       "      <td>1797641</td>\n",
       "      <td>[조광희의 아이러니] 이태원 참사에서 되풀이되는 한국증후군</td>\n",
       "      <td>2022-11-21</td>\n",
       "      <td>khan</td>\n",
       "    </tr>\n",
       "    <tr>\n",
       "      <th>971279</th>\n",
       "      <td>1797646</td>\n",
       "      <td>개막식 빛낸 BTS 정국···사상 첫 중동·겨울 월드컵 '킥오프'</td>\n",
       "      <td>2022-11-21</td>\n",
       "      <td>khan</td>\n",
       "    </tr>\n",
       "  </tbody>\n",
       "</table>\n",
       "</div>"
      ],
      "text/plain": [
       "        Unnamed: 0                                  title        date company\n",
       "971275     1797631   상위 20% 소득 2.0% 줄어들 때 하위 20% 6.5% 줄었다  2022-11-21    khan\n",
       "971276     1797632  가계소득 하위 20%, 지출 절반이 ‘식비’···먹고살기 힘들어졌다  2022-11-21    khan\n",
       "971277     1797633    APEC 간 한덕수 총리 “빈살만, 윤 대통령 만남 좋았다더라”  2022-11-21    khan\n",
       "971278     1797641       [조광희의 아이러니] 이태원 참사에서 되풀이되는 한국증후군  2022-11-21    khan\n",
       "971279     1797646   개막식 빛낸 BTS 정국···사상 첫 중동·겨울 월드컵 '킥오프'  2022-11-21    khan"
      ]
     },
     "execution_count": 11,
     "metadata": {},
     "output_type": "execute_result"
    }
   ],
   "source": [
    "final.tail()"
   ]
  }
 ],
 "metadata": {
  "kernelspec": {
   "display_name": "Python 3.10.4 64-bit",
   "language": "python",
   "name": "python3"
  },
  "language_info": {
   "codemirror_mode": {
    "name": "ipython",
    "version": 3
   },
   "file_extension": ".py",
   "mimetype": "text/x-python",
   "name": "python",
   "nbconvert_exporter": "python",
   "pygments_lexer": "ipython3",
   "version": "3.10.4"
  },
  "orig_nbformat": 4,
  "vscode": {
   "interpreter": {
    "hash": "e61232730b999fc0c19071ba2186864ad7a495aa8575040cd85a43a1b00dc407"
   }
  }
 },
 "nbformat": 4,
 "nbformat_minor": 2
}
